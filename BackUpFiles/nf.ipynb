{
 "cells": [
  {
   "cell_type": "code",
   "execution_count": 29,
   "metadata": {},
   "outputs": [],
   "source": [
    "import warnings\n",
    "import numpy as np\n",
    "import pandas as pd\n",
    "import statsmodels.api as sm\n",
    "import matplotlib.pyplot as plt\n",
    "from sklearn.metrics import r2_score\n",
    "from statsmodels.tsa.arima.model import ARIMA\n",
    "from statsmodels.tsa.stattools import adfuller\n",
    "from statsmodels.tsa.seasonal import seasonal_decompose\n",
    "from statsmodels.graphics.tsaplots import plot_acf, plot_pacf\n",
    "from sklearn.model_selection import train_test_split\n",
    "\n",
    "warnings.filterwarnings(\"ignore\")"
   ]
  },
  {
   "cell_type": "code",
   "execution_count": 30,
   "metadata": {},
   "outputs": [],
   "source": [
    "from statsmodels.tsa.holtwinters import ExponentialSmoothing\n",
    "def precasting(filepath, col_name, n_years):\n",
    "    df = pd.read_excel(filepath)\n",
    "    desired_columns = ['Year' ,col_name]\n",
    "    total_value_by_year = df[desired_columns]\n",
    "    total_value_by_year = total_value_by_year.dropna()\n",
    "    total_value_by_year = total_value_by_year[::-1]\n",
    "    # print(total_value_by_year.head())\n",
    "    model = ExponentialSmoothing(total_value_by_year[col_name], seasonal_periods=4, trend='add', seasonal='add')\n",
    "    model_fit = model.fit()\n",
    "\n",
    "    # Forecast 5 years into the future\n",
    "    forecast = model_fit.forecast(n_years)\n",
    "\n",
    "    print(\"Forecasted values for the next 5 years:\")\n",
    "    print (forecast[::-1])\n"
   ]
  },
  {
   "cell_type": "code",
   "execution_count": 31,
   "metadata": {},
   "outputs": [
    {
     "name": "stdout",
     "output_type": "stream",
     "text": [
      "Forecasted values for the next 5 years:\n",
      "-31    73.970318\n",
      "-30    73.487687\n",
      "-29    73.006470\n",
      "-28    72.211756\n",
      "-27    72.020080\n",
      "-26    71.537448\n",
      "-25    71.056231\n",
      "-24    70.261518\n",
      "-23    70.069841\n",
      "-22    69.587210\n",
      "-21    69.105993\n",
      "-20    68.311280\n",
      "-19    68.119603\n",
      "-18    67.636972\n",
      "-17    67.155755\n",
      "-16    66.361042\n",
      "-15    66.169365\n",
      "-14    65.686734\n",
      "-13    65.205517\n",
      "-12    64.410803\n",
      "-11    64.219127\n",
      "-10    63.736495\n",
      "-9     63.255278\n",
      "-8     62.460565\n",
      "-7     62.268888\n",
      "-6     61.786257\n",
      "-5     61.305040\n",
      "-4     60.510327\n",
      "-3     60.318650\n",
      "-2     59.836019\n",
      "-1     59.354802\n",
      "dtype: float64\n"
     ]
    }
   ],
   "source": [
    "precasting(\"./data/population_ghi_unemploment_yearwise_import export_africa_sheet.xlsx\",  'GHI', 31)"
   ]
  },
  {
   "cell_type": "code",
   "execution_count": null,
   "metadata": {},
   "outputs": [],
   "source": [
    "precasting(\"./data/population_ghi_unemploment_yearwise_import export_africa_sheet.xlsx\",  'Unemployment Above age 15', 31)"
   ]
  },
  {
   "cell_type": "code",
   "execution_count": null,
   "metadata": {},
   "outputs": [],
   "source": [
    "precasting(\"./data/population_ghi_unemploment_yearwise_import export_africa_sheet.xlsx\",  'Unemployment between age 15-24', 31)"
   ]
  },
  {
   "cell_type": "code",
   "execution_count": null,
   "metadata": {},
   "outputs": [],
   "source": [
    "precasting(\"./data/population_ghi_unemploment_yearwise_import export_africa_sheet.xlsx\",  'Unemployment Above age 25+', 31)"
   ]
  },
  {
   "cell_type": "code",
   "execution_count": null,
   "metadata": {},
   "outputs": [],
   "source": [
    "precasting(\"./data/population_ghi_unemploment_yearwise_import export_africa_sheet.xlsx\",  'People employed in agricultural sector in millions', 63)"
   ]
  },
  {
   "cell_type": "code",
   "execution_count": null,
   "metadata": {},
   "outputs": [],
   "source": [
    "precasting(\"./data/population_ghi_unemploment_yearwise_import export_africa_sheet.xlsx\",  'Total employment in Africa 2010-2021(In Millions)', 51)"
   ]
  },
  {
   "cell_type": "code",
   "execution_count": null,
   "metadata": {},
   "outputs": [],
   "source": [
    "precasting(\"./data/population_ghi_unemploment_yearwise_import export_africa_sheet.xlsx\",  'People employed in agricultural sector in millions', 63)"
   ]
  },
  {
   "cell_type": "code",
   "execution_count": null,
   "metadata": {},
   "outputs": [],
   "source": [
    "precasting(\"./data/population_ghi_unemploment_yearwise_import export_africa_sheet.xlsx\",  'Share of agricultural land in South Africa 2000-2020 in percentage', 41)"
   ]
  },
  {
   "cell_type": "code",
   "execution_count": null,
   "metadata": {},
   "outputs": [],
   "source": [
    "precasting(\"./data/population_ghi_unemploment_yearwise_import export_africa_sheet.xlsx\",  'Export (US$ Thousand)', 30)"
   ]
  },
  {
   "cell_type": "code",
   "execution_count": null,
   "metadata": {},
   "outputs": [],
   "source": [
    "precasting(\"./data/population_ghi_unemploment_yearwise_import export_africa_sheet.xlsx\",  'People employed in agricultural sector in millions', 50)"
   ]
  },
  {
   "cell_type": "code",
   "execution_count": null,
   "metadata": {},
   "outputs": [],
   "source": [
    "precasting(\"./data/population_ghi_unemploment_yearwise_import export_africa_sheet.xlsx\",  'CREDIT RECEIVED FROM OTHER COUNTRIES IN BILLIONS', 40)"
   ]
  },
  {
   "cell_type": "code",
   "execution_count": null,
   "metadata": {},
   "outputs": [],
   "source": [
    "precasting(\"./data/population_ghi_unemploment_yearwise_import export_africa_sheet.xlsx\",  'GASOLINE(USD)', 32)"
   ]
  },
  {
   "cell_type": "code",
   "execution_count": null,
   "metadata": {},
   "outputs": [],
   "source": []
  },
  {
   "cell_type": "code",
   "execution_count": null,
   "metadata": {},
   "outputs": [],
   "source": []
  }
 ],
 "metadata": {
  "kernelspec": {
   "display_name": "venv",
   "language": "python",
   "name": "python3"
  },
  "language_info": {
   "codemirror_mode": {
    "name": "ipython",
    "version": 3
   },
   "file_extension": ".py",
   "mimetype": "text/x-python",
   "name": "python",
   "nbconvert_exporter": "python",
   "pygments_lexer": "ipython3",
   "version": "3.10.0"
  }
 },
 "nbformat": 4,
 "nbformat_minor": 2
}
