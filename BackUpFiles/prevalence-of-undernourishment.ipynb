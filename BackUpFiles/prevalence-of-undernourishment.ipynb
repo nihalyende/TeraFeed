{
 "cells": [
  {
   "cell_type": "code",
   "execution_count": 2,
   "metadata": {},
   "outputs": [],
   "source": [
    "from pyspark.sql import SparkSession"
   ]
  },
  {
   "cell_type": "code",
   "execution_count": 3,
   "metadata": {},
   "outputs": [],
   "source": [
    "spark = SparkSession.builder.getOrCreate()"
   ]
  },
  {
   "cell_type": "code",
   "execution_count": 16,
   "metadata": {},
   "outputs": [
    {
     "data": {
      "text/html": [
       "\n",
       "            <div>\n",
       "                <p><b>SparkSession - in-memory</b></p>\n",
       "                \n",
       "        <div>\n",
       "            <p><b>SparkContext</b></p>\n",
       "\n",
       "            <p><a href=\"http://host.docker.internal:4040\">Spark UI</a></p>\n",
       "\n",
       "            <dl>\n",
       "              <dt>Version</dt>\n",
       "                <dd><code>v3.5.0</code></dd>\n",
       "              <dt>Master</dt>\n",
       "                <dd><code>local[*]</code></dd>\n",
       "              <dt>AppName</dt>\n",
       "                <dd><code>pyspark-shell</code></dd>\n",
       "            </dl>\n",
       "        </div>\n",
       "        \n",
       "            </div>\n",
       "        "
      ],
      "text/plain": [
       "<pyspark.sql.session.SparkSession at 0x1b453745b70>"
      ]
     },
     "execution_count": 16,
     "metadata": {},
     "output_type": "execute_result"
    }
   ],
   "source": [
    "spark"
   ]
  },
  {
   "cell_type": "code",
   "execution_count": 4,
   "metadata": {},
   "outputs": [],
   "source": [
    "data_path = './data/'"
   ]
  },
  {
   "cell_type": "code",
   "execution_count": 31,
   "metadata": {},
   "outputs": [
    {
     "name": "stdout",
     "output_type": "stream",
     "text": [
      "+-----------+----+----+------------------------------------------------+\n",
      "|     Entity|Code|Year|Prevalence of undernourishment (% of population)|\n",
      "+-----------+----+----+------------------------------------------------+\n",
      "|Afghanistan| AFG|2001|                                            47.8|\n",
      "|Afghanistan| AFG|2002|                                            45.6|\n",
      "|Afghanistan| AFG|2003|                                            40.6|\n",
      "|Afghanistan| AFG|2004|                                              38|\n",
      "|Afghanistan| AFG|2005|                                            36.1|\n",
      "|Afghanistan| AFG|2006|                                            33.3|\n",
      "|Afghanistan| AFG|2007|                                            29.8|\n",
      "|Afghanistan| AFG|2008|                                            26.5|\n",
      "|Afghanistan| AFG|2009|                                            23.3|\n",
      "|Afghanistan| AFG|2010|                                            21.2|\n",
      "|Afghanistan| AFG|2011|                                            20.2|\n",
      "|Afghanistan| AFG|2012|                                            21.1|\n",
      "|Afghanistan| AFG|2013|                                            20.7|\n",
      "|Afghanistan| AFG|2014|                                            20.7|\n",
      "|Afghanistan| AFG|2015|                                            21.5|\n",
      "|Afghanistan| AFG|2016|                                            22.2|\n",
      "|Afghanistan| AFG|2017|                                              23|\n",
      "|Afghanistan| AFG|2018|                                              24|\n",
      "|Afghanistan| AFG|2019|                                            26.9|\n",
      "|Afghanistan| AFG|2020|                                            29.8|\n",
      "+-----------+----+----+------------------------------------------------+\n",
      "only showing top 20 rows\n",
      "\n"
     ]
    },
    {
     "data": {
      "text/plain": [
       "175"
      ]
     },
     "execution_count": 31,
     "metadata": {},
     "output_type": "execute_result"
    }
   ],
   "source": [
    "file_path = data_path + 'prevalence-of-undernourishment.csv'\n",
    "df1 = spark.read.format(\"csv\").option(\"header\", \"true\").load(file_path)\n",
    "df1.show()\n",
    "df1.count()\n",
    "len(df1.select(\"Entity\").distinct().collect())"
   ]
  },
  {
   "cell_type": "code",
   "execution_count": 14,
   "metadata": {},
   "outputs": [],
   "source": [
    "file_path = data_path + 'indicator2.csv'\n",
    "df2 = spark.read.format(\"csv\").option(\"header\", \"true\").load(file_path)"
   ]
  },
  {
   "cell_type": "code",
   "execution_count": 29,
   "metadata": {},
   "outputs": [
    {
     "ename": "AnalysisException",
     "evalue": "[UNRESOLVED_COLUMN.WITH_SUGGESTION] A column or function parameter with name `Entity` cannot be resolved. Did you mean one of the following? [`1960`, `1961`, `1962`, `1963`, `1964`].;\n'Project ['Entity]\n+- Relation [Country Name#1023,Country Code#1024,Indicator Name#1025,Indicator Code#1026,1960#1027,1961#1028,1962#1029,1963#1030,1964#1031,1965#1032,1966#1033,1967#1034,1968#1035,1969#1036,1970#1037,1971#1038,1972#1039,1973#1040,1974#1041,1975#1042,1976#1043,1977#1044,1978#1045,1979#1046,... 43 more fields] csv\n",
     "output_type": "error",
     "traceback": [
      "\u001b[1;31m---------------------------------------------------------------------------\u001b[0m",
      "\u001b[1;31mAnalysisException\u001b[0m                         Traceback (most recent call last)",
      "Cell \u001b[1;32mIn[29], line 2\u001b[0m\n\u001b[0;32m      1\u001b[0m df1\u001b[38;5;241m.\u001b[39mcount()\n\u001b[1;32m----> 2\u001b[0m \u001b[38;5;28mlen\u001b[39m(\u001b[43mdf2\u001b[49m\u001b[38;5;241;43m.\u001b[39;49m\u001b[43mselect\u001b[49m\u001b[43m(\u001b[49m\u001b[38;5;124;43m\"\u001b[39;49m\u001b[38;5;124;43mEntity\u001b[39;49m\u001b[38;5;124;43m\"\u001b[39;49m\u001b[43m)\u001b[49m\u001b[38;5;241m.\u001b[39mdistinct()\u001b[38;5;241m.\u001b[39mcollect())\n",
      "File \u001b[1;32mc:\\Users\\haydencordeiro\\Desktop\\ADT project\\venv\\lib\\site-packages\\pyspark\\sql\\dataframe.py:3223\u001b[0m, in \u001b[0;36mDataFrame.select\u001b[1;34m(self, *cols)\u001b[0m\n\u001b[0;32m   3178\u001b[0m \u001b[38;5;28;01mdef\u001b[39;00m \u001b[38;5;21mselect\u001b[39m(\u001b[38;5;28mself\u001b[39m, \u001b[38;5;241m*\u001b[39mcols: \u001b[38;5;124m\"\u001b[39m\u001b[38;5;124mColumnOrName\u001b[39m\u001b[38;5;124m\"\u001b[39m) \u001b[38;5;241m-\u001b[39m\u001b[38;5;241m>\u001b[39m \u001b[38;5;124m\"\u001b[39m\u001b[38;5;124mDataFrame\u001b[39m\u001b[38;5;124m\"\u001b[39m:  \u001b[38;5;66;03m# type: ignore[misc]\u001b[39;00m\n\u001b[0;32m   3179\u001b[0m \u001b[38;5;250m    \u001b[39m\u001b[38;5;124;03m\"\"\"Projects a set of expressions and returns a new :class:`DataFrame`.\u001b[39;00m\n\u001b[0;32m   3180\u001b[0m \n\u001b[0;32m   3181\u001b[0m \u001b[38;5;124;03m    .. versionadded:: 1.3.0\u001b[39;00m\n\u001b[1;32m   (...)\u001b[0m\n\u001b[0;32m   3221\u001b[0m \u001b[38;5;124;03m    +-----+---+\u001b[39;00m\n\u001b[0;32m   3222\u001b[0m \u001b[38;5;124;03m    \"\"\"\u001b[39;00m\n\u001b[1;32m-> 3223\u001b[0m     jdf \u001b[38;5;241m=\u001b[39m \u001b[38;5;28;43mself\u001b[39;49m\u001b[38;5;241;43m.\u001b[39;49m\u001b[43m_jdf\u001b[49m\u001b[38;5;241;43m.\u001b[39;49m\u001b[43mselect\u001b[49m\u001b[43m(\u001b[49m\u001b[38;5;28;43mself\u001b[39;49m\u001b[38;5;241;43m.\u001b[39;49m\u001b[43m_jcols\u001b[49m\u001b[43m(\u001b[49m\u001b[38;5;241;43m*\u001b[39;49m\u001b[43mcols\u001b[49m\u001b[43m)\u001b[49m\u001b[43m)\u001b[49m\n\u001b[0;32m   3224\u001b[0m     \u001b[38;5;28;01mreturn\u001b[39;00m DataFrame(jdf, \u001b[38;5;28mself\u001b[39m\u001b[38;5;241m.\u001b[39msparkSession)\n",
      "File \u001b[1;32mc:\\Users\\haydencordeiro\\Desktop\\ADT project\\venv\\lib\\site-packages\\py4j\\java_gateway.py:1322\u001b[0m, in \u001b[0;36mJavaMember.__call__\u001b[1;34m(self, *args)\u001b[0m\n\u001b[0;32m   1316\u001b[0m command \u001b[38;5;241m=\u001b[39m proto\u001b[38;5;241m.\u001b[39mCALL_COMMAND_NAME \u001b[38;5;241m+\u001b[39m\\\n\u001b[0;32m   1317\u001b[0m     \u001b[38;5;28mself\u001b[39m\u001b[38;5;241m.\u001b[39mcommand_header \u001b[38;5;241m+\u001b[39m\\\n\u001b[0;32m   1318\u001b[0m     args_command \u001b[38;5;241m+\u001b[39m\\\n\u001b[0;32m   1319\u001b[0m     proto\u001b[38;5;241m.\u001b[39mEND_COMMAND_PART\n\u001b[0;32m   1321\u001b[0m answer \u001b[38;5;241m=\u001b[39m \u001b[38;5;28mself\u001b[39m\u001b[38;5;241m.\u001b[39mgateway_client\u001b[38;5;241m.\u001b[39msend_command(command)\n\u001b[1;32m-> 1322\u001b[0m return_value \u001b[38;5;241m=\u001b[39m \u001b[43mget_return_value\u001b[49m\u001b[43m(\u001b[49m\n\u001b[0;32m   1323\u001b[0m \u001b[43m    \u001b[49m\u001b[43manswer\u001b[49m\u001b[43m,\u001b[49m\u001b[43m \u001b[49m\u001b[38;5;28;43mself\u001b[39;49m\u001b[38;5;241;43m.\u001b[39;49m\u001b[43mgateway_client\u001b[49m\u001b[43m,\u001b[49m\u001b[43m \u001b[49m\u001b[38;5;28;43mself\u001b[39;49m\u001b[38;5;241;43m.\u001b[39;49m\u001b[43mtarget_id\u001b[49m\u001b[43m,\u001b[49m\u001b[43m \u001b[49m\u001b[38;5;28;43mself\u001b[39;49m\u001b[38;5;241;43m.\u001b[39;49m\u001b[43mname\u001b[49m\u001b[43m)\u001b[49m\n\u001b[0;32m   1325\u001b[0m \u001b[38;5;28;01mfor\u001b[39;00m temp_arg \u001b[38;5;129;01min\u001b[39;00m temp_args:\n\u001b[0;32m   1326\u001b[0m     \u001b[38;5;28;01mif\u001b[39;00m \u001b[38;5;28mhasattr\u001b[39m(temp_arg, \u001b[38;5;124m\"\u001b[39m\u001b[38;5;124m_detach\u001b[39m\u001b[38;5;124m\"\u001b[39m):\n",
      "File \u001b[1;32mc:\\Users\\haydencordeiro\\Desktop\\ADT project\\venv\\lib\\site-packages\\pyspark\\errors\\exceptions\\captured.py:185\u001b[0m, in \u001b[0;36mcapture_sql_exception.<locals>.deco\u001b[1;34m(*a, **kw)\u001b[0m\n\u001b[0;32m    181\u001b[0m converted \u001b[38;5;241m=\u001b[39m convert_exception(e\u001b[38;5;241m.\u001b[39mjava_exception)\n\u001b[0;32m    182\u001b[0m \u001b[38;5;28;01mif\u001b[39;00m \u001b[38;5;129;01mnot\u001b[39;00m \u001b[38;5;28misinstance\u001b[39m(converted, UnknownException):\n\u001b[0;32m    183\u001b[0m     \u001b[38;5;66;03m# Hide where the exception came from that shows a non-Pythonic\u001b[39;00m\n\u001b[0;32m    184\u001b[0m     \u001b[38;5;66;03m# JVM exception message.\u001b[39;00m\n\u001b[1;32m--> 185\u001b[0m     \u001b[38;5;28;01mraise\u001b[39;00m converted \u001b[38;5;28;01mfrom\u001b[39;00m \u001b[38;5;28;01mNone\u001b[39;00m\n\u001b[0;32m    186\u001b[0m \u001b[38;5;28;01melse\u001b[39;00m:\n\u001b[0;32m    187\u001b[0m     \u001b[38;5;28;01mraise\u001b[39;00m\n",
      "\u001b[1;31mAnalysisException\u001b[0m: [UNRESOLVED_COLUMN.WITH_SUGGESTION] A column or function parameter with name `Entity` cannot be resolved. Did you mean one of the following? [`1960`, `1961`, `1962`, `1963`, `1964`].;\n'Project ['Entity]\n+- Relation [Country Name#1023,Country Code#1024,Indicator Name#1025,Indicator Code#1026,1960#1027,1961#1028,1962#1029,1963#1030,1964#1031,1965#1032,1966#1033,1967#1034,1968#1035,1969#1036,1970#1037,1971#1038,1972#1039,1973#1040,1974#1041,1975#1042,1976#1043,1977#1044,1978#1045,1979#1046,... 43 more fields] csv\n"
     ]
    }
   ],
   "source": []
  },
  {
   "cell_type": "code",
   "execution_count": 16,
   "metadata": {},
   "outputs": [],
   "source": [
    "columns_to_drop = [str(i) for i in range(1960,2015)]\n",
    "\n",
    "# Drop the specified list of columns\n",
    "df_after_drop = df2.drop(*columns_to_drop)"
   ]
  },
  {
   "cell_type": "code",
   "execution_count": 17,
   "metadata": {},
   "outputs": [
    {
     "name": "stdout",
     "output_type": "stream",
     "text": [
      "+--------------------+------------+--------------------+--------------+----+----+----+----+----+----+----+----+\n",
      "|        Country Name|Country Code|      Indicator Name|Indicator Code|2015|2016|2017|2018|2019|2020|2021|2022|\n",
      "+--------------------+------------+--------------------+--------------+----+----+----+----+----+----+----+----+\n",
      "|               Aruba|         ABW|Prevalence of mod...|SN.ITK.MSFI.ZS|NULL|NULL|NULL|NULL|NULL|NULL|NULL|NULL|\n",
      "|Africa Eastern an...|         AFE|Prevalence of mod...|SN.ITK.MSFI.ZS|NULL|NULL|NULL|NULL|NULL|NULL|NULL|NULL|\n",
      "|         Afghanistan|         AFG|Prevalence of mod...|SN.ITK.MSFI.ZS|45.1|49.6|54.3|57.6|63.1|70.1|79.1|NULL|\n",
      "|Africa Western an...|         AFW|Prevalence of mod...|SN.ITK.MSFI.ZS|NULL|NULL|NULL|NULL|NULL|NULL|NULL|NULL|\n",
      "|              Angola|         AGO|Prevalence of mod...|SN.ITK.MSFI.ZS|66.5|NULL|NULL|70.1|73.5|77.7|78.5|NULL|\n",
      "|             Albania|         ALB|Prevalence of mod...|SN.ITK.MSFI.ZS|38.8|  39|38.6|37.1|33.8|30.9|30.2|NULL|\n",
      "|             Andorra|         AND|Prevalence of mod...|SN.ITK.MSFI.ZS|NULL|NULL|NULL|NULL|NULL|NULL|NULL|NULL|\n",
      "|          Arab World|         ARB|Prevalence of mod...|SN.ITK.MSFI.ZS|NULL|NULL|NULL|NULL|NULL|NULL|NULL|NULL|\n",
      "|United Arab Emirates|         ARE|Prevalence of mod...|SN.ITK.MSFI.ZS|NULL|NULL|NULL|NULL|NULL| 7.5| 9.8|NULL|\n",
      "|           Argentina|         ARG|Prevalence of mod...|SN.ITK.MSFI.ZS|19.2|25.9|32.3|35.8|35.8|  37|36.9|NULL|\n",
      "|             Armenia|         ARM|Prevalence of mod...|SN.ITK.MSFI.ZS|NULL|NULL|17.1|14.8|11.7| 8.3| 7.1|NULL|\n",
      "|      American Samoa|         ASM|Prevalence of mod...|SN.ITK.MSFI.ZS|NULL|NULL|NULL|NULL|NULL|NULL|NULL|NULL|\n",
      "| Antigua and Barbuda|         ATG|Prevalence of mod...|SN.ITK.MSFI.ZS|NULL|NULL|NULL|NULL|NULL|  33|  33|NULL|\n",
      "|           Australia|         AUS|Prevalence of mod...|SN.ITK.MSFI.ZS|10.8|11.8|12.7|13.3|12.3|11.9|11.4|NULL|\n",
      "|             Austria|         AUT|Prevalence of mod...|SN.ITK.MSFI.ZS| 5.5| 5.2| 4.4| 3.6|   3| 3.3| 4.3|NULL|\n",
      "|          Azerbaijan|         AZE|Prevalence of mod...|SN.ITK.MSFI.ZS| 5.9| 7.7| 8.5| 9.6| 8.8| 9.5|10.1|NULL|\n",
      "|             Burundi|         BDI|Prevalence of mod...|SN.ITK.MSFI.ZS|NULL|NULL|NULL|NULL|NULL|NULL|NULL|NULL|\n",
      "|             Belgium|         BEL|Prevalence of mod...|SN.ITK.MSFI.ZS|NULL|NULL|NULL|NULL| 3.7| 4.8| 5.8|NULL|\n",
      "|               Benin|         BEN|Prevalence of mod...|SN.ITK.MSFI.ZS|  55|63.8|66.3|65.6|65.7|  68|73.6|NULL|\n",
      "|        Burkina Faso|         BFA|Prevalence of mod...|SN.ITK.MSFI.ZS|41.8|  43|42.9|42.8|47.9|52.6|56.9|NULL|\n",
      "+--------------------+------------+--------------------+--------------+----+----+----+----+----+----+----+----+\n",
      "only showing top 20 rows\n",
      "\n"
     ]
    }
   ],
   "source": [
    "df_after_drop.show()"
   ]
  },
  {
   "cell_type": "code",
   "execution_count": 18,
   "metadata": {},
   "outputs": [
    {
     "data": {
      "text/plain": [
       "266"
      ]
     },
     "execution_count": 18,
     "metadata": {},
     "output_type": "execute_result"
    }
   ],
   "source": [
    "df_after_drop.count()"
   ]
  },
  {
   "cell_type": "markdown",
   "metadata": {},
   "source": []
  },
  {
   "cell_type": "code",
   "execution_count": 21,
   "metadata": {},
   "outputs": [
    {
     "data": {
      "text/plain": [
       "266"
      ]
     },
     "execution_count": 21,
     "metadata": {},
     "output_type": "execute_result"
    }
   ],
   "source": [
    "len(df_after_drop.select(\"Country Name\").distinct().collect())"
   ]
  },
  {
   "cell_type": "code",
   "execution_count": null,
   "metadata": {},
   "outputs": [],
   "source": []
  }
 ],
 "metadata": {
  "kernelspec": {
   "display_name": "venv",
   "language": "python",
   "name": "python3"
  },
  "language_info": {
   "codemirror_mode": {
    "name": "ipython",
    "version": 3
   },
   "file_extension": ".py",
   "mimetype": "text/x-python",
   "name": "python",
   "nbconvert_exporter": "python",
   "pygments_lexer": "ipython3",
   "version": "3.10.0"
  }
 },
 "nbformat": 4,
 "nbformat_minor": 2
}
