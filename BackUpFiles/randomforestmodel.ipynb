{
 "cells": [
  {
   "cell_type": "code",
   "execution_count": 1,
   "metadata": {},
   "outputs": [
    {
     "name": "stderr",
     "output_type": "stream",
     "text": [
      "C:\\Users\\haydencordeiro\\AppData\\Local\\Temp\\ipykernel_20960\\2424261827.py:1: DeprecationWarning: \n",
      "Pyarrow will become a required dependency of pandas in the next major release of pandas (pandas 3.0),\n",
      "(to allow more performant data types, such as the Arrow string type, and better interoperability with other libraries)\n",
      "but was not found to be installed on your system.\n",
      "If this would cause problems for you,\n",
      "please provide us feedback at https://github.com/pandas-dev/pandas/issues/54466\n",
      "        \n",
      "  import pandas as pd\n"
     ]
    }
   ],
   "source": [
    "import pandas as pd\n",
    "from sklearn.model_selection import train_test_split\n",
    "from sklearn.ensemble import RandomForestRegressor\n",
    "from sklearn.metrics import mean_squared_error\n",
    "import matplotlib.pyplot as plt"
   ]
  },
  {
   "cell_type": "code",
   "execution_count": 2,
   "metadata": {},
   "outputs": [],
   "source": [
    "# Load the dataset\n",
    "data = pd.read_excel('./data/population_ghi_unemploment_yearwise_import export_africa_sheet.xlsx')  # Replace 'your_dataset.csv' with the actual filename\n",
    "\n",
    "# Split the data into features (X) and target variable (y)\n",
    "X = data.drop(columns=['GHI', 'Year'])\n",
    "y = data['GHI']\n"
   ]
  },
  {
   "cell_type": "code",
   "execution_count": 3,
   "metadata": {},
   "outputs": [],
   "source": [
    "X_train, X_test, y_train, y_test = train_test_split(X, y, test_size=0.2, random_state=42)\n"
   ]
  },
  {
   "cell_type": "code",
   "execution_count": 4,
   "metadata": {},
   "outputs": [
    {
     "name": "stdout",
     "output_type": "stream",
     "text": [
      "MSE  0.3523621717961282\n"
     ]
    },
    {
     "data": {
      "image/png": "[encoded data removed]",
      "text/plain": [
       "<Figure size 640x480 with 1 Axes>"
      ]
     },
     "metadata": {},
     "output_type": "display_data"
    }
   ],
   "source": [
    "model = RandomForestRegressor(n_estimators=100, random_state=42)\n",
    "model.fit(X_train, y_train)\n",
    "y_pred = model.predict(X_test)\n",
    "mse = mean_squared_error(y_test, y_pred)\n",
    "print(\"MSE \",mse)\n",
    "\n",
    "#  Visualize the predictions\n",
    "plt.scatter(y_test, y_pred)\n",
    "plt.xlabel(\"Actual GHI\")\n",
    "plt.ylabel(\"Predicted GHI\")\n",
    "plt.title(\"Actual vs Predicted GHI\")\n",
    "plt.show()"
   ]
  },
  {
   "cell_type": "code",
   "execution_count": 11,
   "metadata": {},
   "outputs": [
    {
     "data": {
      "text/plain": [
       "array([1.34712554e+09, 1.01477941e+01, 1.94925000e+01, 8.40175000e+00,\n",
       "       7.94200000e+01, 2.29330000e+02, 4.66100000e+02, 4.81621775e+07,\n",
       "       6.41299440e+07, 6.22900000e+01, 7.36849065e+04, 1.28000000e+00])"
      ]
     },
     "execution_count": 11,
     "metadata": {},
     "output_type": "execute_result"
    }
   ],
   "source": [
    "X_test.iloc[0].values"
   ]
  },
  {
   "cell_type": "code",
   "execution_count": 12,
   "metadata": {},
   "outputs": [
    {
     "name": "stdout",
     "output_type": "stream",
     "text": [
      "Predicted GHI: [57.57731279]\n"
     ]
    },
    {
     "name": "stderr",
     "output_type": "stream",
     "text": [
      "c:\\Users\\haydencordeiro\\Desktop\\ADT project\\venv\\lib\\site-packages\\sklearn\\base.py:493: UserWarning: X does not have valid feature names, but RandomForestRegressor was fitted with feature names\n",
      "  warnings.warn(\n"
     ]
    }
   ],
   "source": [
    "new_data = [[ 277118493, 9.481062, 15.990643, 5.855937, 83.75495, 43.362054, -113.816669, -4.28E+07, -5.50E+07, 0.597, -121248.9015, -0.38255]]\n",
    "\n",
    "\n",
    "predicted_GHI = model.predict(new_data)\n",
    "\n",
    "print(\"Predicted GHI:\", predicted_GHI)"
   ]
  },
  {
   "cell_type": "code",
   "execution_count": 10,
   "metadata": {},
   "outputs": [
    {
     "data": {
      "text/html": [
       "<div>\n",
       "<style scoped>\n",
       "    .dataframe tbody tr th:only-of-type {\n",
       "        vertical-align: middle;\n",
       "    }\n",
       "\n",
       "    .dataframe tbody tr th {\n",
       "        vertical-align: top;\n",
       "    }\n",
       "\n",
       "    .dataframe thead th {\n",
       "        text-align: right;\n",
       "    }\n",
       "</style>\n",
       "<table border=\"1\" class=\"dataframe\">\n",
       "  <thead>\n",
       "    <tr style=\"text-align: right;\">\n",
       "      <th></th>\n",
       "      <th>Year</th>\n",
       "      <th>Population</th>\n",
       "      <th>GHI</th>\n",
       "      <th>Unemployment Above age 15</th>\n",
       "      <th>Unemployment between age 15-24</th>\n",
       "      <th>Unemployment Above age 25+</th>\n",
       "      <th>Share of agricultural land in South Africa 2000-2020 in percentage</th>\n",
       "      <th>People employed in agricultural sector in millions</th>\n",
       "      <th>Total employment in Africa 2010-2021(In Millions)</th>\n",
       "      <th>Import (US$ Thousand)</th>\n",
       "      <th>Export (US$ Thousand)</th>\n",
       "    </tr>\n",
       "  </thead>\n",
       "  <tbody>\n",
       "    <tr>\n",
       "      <th>Year</th>\n",
       "      <td>1.000000</td>\n",
       "      <td>0.981913</td>\n",
       "      <td>-0.994264</td>\n",
       "      <td>-0.193297</td>\n",
       "      <td>0.917718</td>\n",
       "      <td>0.909095</td>\n",
       "      <td>-0.993367</td>\n",
       "      <td>0.929906</td>\n",
       "      <td>0.999922</td>\n",
       "      <td>0.967924</td>\n",
       "      <td>0.969089</td>\n",
       "    </tr>\n",
       "    <tr>\n",
       "      <th>Population</th>\n",
       "      <td>0.981913</td>\n",
       "      <td>1.000000</td>\n",
       "      <td>-0.987226</td>\n",
       "      <td>-0.211167</td>\n",
       "      <td>0.900627</td>\n",
       "      <td>0.895042</td>\n",
       "      <td>-0.978893</td>\n",
       "      <td>0.970204</td>\n",
       "      <td>0.981442</td>\n",
       "      <td>0.969889</td>\n",
       "      <td>0.976929</td>\n",
       "    </tr>\n",
       "    <tr>\n",
       "      <th>GHI</th>\n",
       "      <td>-0.994264</td>\n",
       "      <td>-0.987226</td>\n",
       "      <td>1.000000</td>\n",
       "      <td>0.264706</td>\n",
       "      <td>-0.891739</td>\n",
       "      <td>-0.875912</td>\n",
       "      <td>0.997638</td>\n",
       "      <td>-0.946740</td>\n",
       "      <td>-0.994189</td>\n",
       "      <td>-0.984619</td>\n",
       "      <td>-0.984679</td>\n",
       "    </tr>\n",
       "    <tr>\n",
       "      <th>Unemployment Above age 15</th>\n",
       "      <td>-0.193297</td>\n",
       "      <td>-0.211167</td>\n",
       "      <td>0.264706</td>\n",
       "      <td>1.000000</td>\n",
       "      <td>0.186129</td>\n",
       "      <td>0.213073</td>\n",
       "      <td>0.272233</td>\n",
       "      <td>-0.225990</td>\n",
       "      <td>-0.195552</td>\n",
       "      <td>-0.370512</td>\n",
       "      <td>-0.340313</td>\n",
       "    </tr>\n",
       "    <tr>\n",
       "      <th>Unemployment between age 15-24</th>\n",
       "      <td>0.917718</td>\n",
       "      <td>0.900627</td>\n",
       "      <td>-0.891739</td>\n",
       "      <td>0.186129</td>\n",
       "      <td>1.000000</td>\n",
       "      <td>0.978139</td>\n",
       "      <td>-0.885708</td>\n",
       "      <td>0.859892</td>\n",
       "      <td>0.916598</td>\n",
       "      <td>0.830140</td>\n",
       "      <td>0.846326</td>\n",
       "    </tr>\n",
       "    <tr>\n",
       "      <th>Unemployment Above age 25+</th>\n",
       "      <td>0.909095</td>\n",
       "      <td>0.895042</td>\n",
       "      <td>-0.875912</td>\n",
       "      <td>0.213073</td>\n",
       "      <td>0.978139</td>\n",
       "      <td>1.000000</td>\n",
       "      <td>-0.868016</td>\n",
       "      <td>0.854808</td>\n",
       "      <td>0.908053</td>\n",
       "      <td>0.809510</td>\n",
       "      <td>0.829016</td>\n",
       "    </tr>\n",
       "    <tr>\n",
       "      <th>Share of agricultural land in South Africa 2000-2020 in percentage</th>\n",
       "      <td>-0.993367</td>\n",
       "      <td>-0.978893</td>\n",
       "      <td>0.997638</td>\n",
       "      <td>0.272233</td>\n",
       "      <td>-0.885708</td>\n",
       "      <td>-0.868016</td>\n",
       "      <td>1.000000</td>\n",
       "      <td>-0.933312</td>\n",
       "      <td>-0.993377</td>\n",
       "      <td>-0.984519</td>\n",
       "      <td>-0.981903</td>\n",
       "    </tr>\n",
       "    <tr>\n",
       "      <th>People employed in agricultural sector in millions</th>\n",
       "      <td>0.929906</td>\n",
       "      <td>0.970204</td>\n",
       "      <td>-0.946740</td>\n",
       "      <td>-0.225990</td>\n",
       "      <td>0.859892</td>\n",
       "      <td>0.854808</td>\n",
       "      <td>-0.933312</td>\n",
       "      <td>1.000000</td>\n",
       "      <td>0.929572</td>\n",
       "      <td>0.950471</td>\n",
       "      <td>0.968440</td>\n",
       "    </tr>\n",
       "    <tr>\n",
       "      <th>Total employment in Africa 2010-2021(In Millions)</th>\n",
       "      <td>0.999922</td>\n",
       "      <td>0.981442</td>\n",
       "      <td>-0.994189</td>\n",
       "      <td>-0.195552</td>\n",
       "      <td>0.916598</td>\n",
       "      <td>0.908053</td>\n",
       "      <td>-0.993377</td>\n",
       "      <td>0.929572</td>\n",
       "      <td>1.000000</td>\n",
       "      <td>0.967993</td>\n",
       "      <td>0.969450</td>\n",
       "    </tr>\n",
       "    <tr>\n",
       "      <th>Import (US$ Thousand)</th>\n",
       "      <td>0.967924</td>\n",
       "      <td>0.969889</td>\n",
       "      <td>-0.984619</td>\n",
       "      <td>-0.370512</td>\n",
       "      <td>0.830140</td>\n",
       "      <td>0.809510</td>\n",
       "      <td>-0.984519</td>\n",
       "      <td>0.950471</td>\n",
       "      <td>0.967993</td>\n",
       "      <td>1.000000</td>\n",
       "      <td>0.995154</td>\n",
       "    </tr>\n",
       "    <tr>\n",
       "      <th>Export (US$ Thousand)</th>\n",
       "      <td>0.969089</td>\n",
       "      <td>0.976929</td>\n",
       "      <td>-0.984679</td>\n",
       "      <td>-0.340313</td>\n",
       "      <td>0.846326</td>\n",
       "      <td>0.829016</td>\n",
       "      <td>-0.981903</td>\n",
       "      <td>0.968440</td>\n",
       "      <td>0.969450</td>\n",
       "      <td>0.995154</td>\n",
       "      <td>1.000000</td>\n",
       "    </tr>\n",
       "  </tbody>\n",
       "</table>\n",
       "</div>"
      ],
      "text/plain": [
       "                                                        Year  Population  \\\n",
       "Year                                                1.000000    0.981913   \n",
       "Population                                          0.981913    1.000000   \n",
       "GHI                                                -0.994264   -0.987226   \n",
       "Unemployment Above age 15                          -0.193297   -0.211167   \n",
       "Unemployment between age 15-24                      0.917718    0.900627   \n",
       "Unemployment Above age 25+                          0.909095    0.895042   \n",
       "Share of agricultural land in South Africa 2000... -0.993367   -0.978893   \n",
       "People employed in agricultural sector in millions  0.929906    0.970204   \n",
       "Total employment in Africa 2010-2021(In Millions)   0.999922    0.981442   \n",
       "Import (US$ Thousand)                               0.967924    0.969889   \n",
       "Export (US$ Thousand)                               0.969089    0.976929   \n",
       "\n",
       "                                                         GHI  \\\n",
       "Year                                               -0.994264   \n",
       "Population                                         -0.987226   \n",
       "GHI                                                 1.000000   \n",
       "Unemployment Above age 15                           0.264706   \n",
       "Unemployment between age 15-24                     -0.891739   \n",
       "Unemployment Above age 25+                         -0.875912   \n",
       "Share of agricultural land in South Africa 2000...  0.997638   \n",
       "People employed in agricultural sector in millions -0.946740   \n",
       "Total employment in Africa 2010-2021(In Millions)  -0.994189   \n",
       "Import (US$ Thousand)                              -0.984619   \n",
       "Export (US$ Thousand)                              -0.984679   \n",
       "\n",
       "                                                    Unemployment Above age 15  \\\n",
       "Year                                                                -0.193297   \n",
       "Population                                                          -0.211167   \n",
       "GHI                                                                  0.264706   \n",
       "Unemployment Above age 15                                            1.000000   \n",
       "Unemployment between age 15-24                                       0.186129   \n",
       "Unemployment Above age 25+                                           0.213073   \n",
       "Share of agricultural land in South Africa 2000...                   0.272233   \n",
       "People employed in agricultural sector in millions                  -0.225990   \n",
       "Total employment in Africa 2010-2021(In Millions)                   -0.195552   \n",
       "Import (US$ Thousand)                                               -0.370512   \n",
       "Export (US$ Thousand)                                               -0.340313   \n",
       "\n",
       "                                                    Unemployment between age 15-24  \\\n",
       "Year                                                                      0.917718   \n",
       "Population                                                                0.900627   \n",
       "GHI                                                                      -0.891739   \n",
       "Unemployment Above age 15                                                 0.186129   \n",
       "Unemployment between age 15-24                                            1.000000   \n",
       "Unemployment Above age 25+                                                0.978139   \n",
       "Share of agricultural land in South Africa 2000...                       -0.885708   \n",
       "People employed in agricultural sector in millions                        0.859892   \n",
       "Total employment in Africa 2010-2021(In Millions)                         0.916598   \n",
       "Import (US$ Thousand)                                                     0.830140   \n",
       "Export (US$ Thousand)                                                     0.846326   \n",
       "\n",
       "                                                    Unemployment Above age 25+  \\\n",
       "Year                                                                  0.909095   \n",
       "Population                                                            0.895042   \n",
       "GHI                                                                  -0.875912   \n",
       "Unemployment Above age 15                                             0.213073   \n",
       "Unemployment between age 15-24                                        0.978139   \n",
       "Unemployment Above age 25+                                            1.000000   \n",
       "Share of agricultural land in South Africa 2000...                   -0.868016   \n",
       "People employed in agricultural sector in millions                    0.854808   \n",
       "Total employment in Africa 2010-2021(In Millions)                     0.908053   \n",
       "Import (US$ Thousand)                                                 0.809510   \n",
       "Export (US$ Thousand)                                                 0.829016   \n",
       "\n",
       "                                                    Share of agricultural land in South Africa 2000-2020 in percentage  \\\n",
       "Year                                                                                        -0.993367                    \n",
       "Population                                                                                  -0.978893                    \n",
       "GHI                                                                                          0.997638                    \n",
       "Unemployment Above age 15                                                                    0.272233                    \n",
       "Unemployment between age 15-24                                                              -0.885708                    \n",
       "Unemployment Above age 25+                                                                  -0.868016                    \n",
       "Share of agricultural land in South Africa 2000...                                           1.000000                    \n",
       "People employed in agricultural sector in millions                                          -0.933312                    \n",
       "Total employment in Africa 2010-2021(In Millions)                                           -0.993377                    \n",
       "Import (US$ Thousand)                                                                       -0.984519                    \n",
       "Export (US$ Thousand)                                                                       -0.981903                    \n",
       "\n",
       "                                                    People employed in agricultural sector in millions  \\\n",
       "Year                                                                                         0.929906    \n",
       "Population                                                                                   0.970204    \n",
       "GHI                                                                                         -0.946740    \n",
       "Unemployment Above age 15                                                                   -0.225990    \n",
       "Unemployment between age 15-24                                                               0.859892    \n",
       "Unemployment Above age 25+                                                                   0.854808    \n",
       "Share of agricultural land in South Africa 2000...                                          -0.933312    \n",
       "People employed in agricultural sector in millions                                           1.000000    \n",
       "Total employment in Africa 2010-2021(In Millions)                                            0.929572    \n",
       "Import (US$ Thousand)                                                                        0.950471    \n",
       "Export (US$ Thousand)                                                                        0.968440    \n",
       "\n",
       "                                                    Total employment in Africa 2010-2021(In Millions)  \\\n",
       "Year                                                                                         0.999922   \n",
       "Population                                                                                   0.981442   \n",
       "GHI                                                                                         -0.994189   \n",
       "Unemployment Above age 15                                                                   -0.195552   \n",
       "Unemployment between age 15-24                                                               0.916598   \n",
       "Unemployment Above age 25+                                                                   0.908053   \n",
       "Share of agricultural land in South Africa 2000...                                          -0.993377   \n",
       "People employed in agricultural sector in millions                                           0.929572   \n",
       "Total employment in Africa 2010-2021(In Millions)                                            1.000000   \n",
       "Import (US$ Thousand)                                                                        0.967993   \n",
       "Export (US$ Thousand)                                                                        0.969450   \n",
       "\n",
       "                                                    Import (US$ Thousand)  \\\n",
       "Year                                                             0.967924   \n",
       "Population                                                       0.969889   \n",
       "GHI                                                             -0.984619   \n",
       "Unemployment Above age 15                                       -0.370512   \n",
       "Unemployment between age 15-24                                   0.830140   \n",
       "Unemployment Above age 25+                                       0.809510   \n",
       "Share of agricultural land in South Africa 2000...              -0.984519   \n",
       "People employed in agricultural sector in millions               0.950471   \n",
       "Total employment in Africa 2010-2021(In Millions)                0.967993   \n",
       "Import (US$ Thousand)                                            1.000000   \n",
       "Export (US$ Thousand)                                            0.995154   \n",
       "\n",
       "                                                    Export (US$ Thousand)  \n",
       "Year                                                             0.969089  \n",
       "Population                                                       0.976929  \n",
       "GHI                                                             -0.984679  \n",
       "Unemployment Above age 15                                       -0.340313  \n",
       "Unemployment between age 15-24                                   0.846326  \n",
       "Unemployment Above age 25+                                       0.829016  \n",
       "Share of agricultural land in South Africa 2000...              -0.981903  \n",
       "People employed in agricultural sector in millions               0.968440  \n",
       "Total employment in Africa 2010-2021(In Millions)                0.969450  \n",
       "Import (US$ Thousand)                                            0.995154  \n",
       "Export (US$ Thousand)                                            1.000000  "
      ]
     },
     "execution_count": 10,
     "metadata": {},
     "output_type": "execute_result"
    }
   ],
   "source": [
    "data.corr()"
   ]
  },
  {
   "cell_type": "code",
   "execution_count": 15,
   "metadata": {},
   "outputs": [
    {
     "name": "stdout",
     "output_type": "stream",
     "text": [
      "Mean Absolute Error: 0.4814662688246906\n",
      "Mean Squared Error: 0.3523621717961282\n",
      "Root Mean Squared Error: 0.5936010207168854\n",
      "R-squared Score: 0.9976773592192235\n"
     ]
    },
    {
     "name": "stderr",
     "output_type": "stream",
     "text": [
      "c:\\Users\\haydencordeiro\\Desktop\\ADT project\\venv\\lib\\site-packages\\sklearn\\metrics\\_regression.py:483: FutureWarning: 'squared' is deprecated in version 1.4 and will be removed in 1.6. To calculate the root mean squared error, use the function'root_mean_squared_error'.\n",
      "  warnings.warn(\n"
     ]
    }
   ],
   "source": [
    "from sklearn.metrics import mean_absolute_error, mean_squared_error, r2_score\n",
    "\n",
    "mae = mean_absolute_error(y_test, y_pred)\n",
    "mse = mean_squared_error(y_test, y_pred)\n",
    "rmse = mean_squared_error(y_test, y_pred, squared=False)\n",
    "r2 = r2_score(y_test, y_pred)\n",
    "print(\"Mean Absolute Error:\", mae)\n",
    "print(\"Mean Squared Error:\", mse)\n",
    "print(\"Root Mean Squared Error:\", rmse)\n",
    "print(\"R-squared Score:\", r2)"
   ]
  },
  {
   "cell_type": "code",
   "execution_count": 16,
   "metadata": {},
   "outputs": [
    {
     "data": {
      "text/plain": [
       "['random_forest_model.pkl']"
      ]
     },
     "execution_count": 16,
     "metadata": {},
     "output_type": "execute_result"
    }
   ],
   "source": [
    "import joblib\n",
    "\n",
    "# Save the trained model to a file\n",
    "joblib.dump(model, 'random_forest_model.pkl')\n"
   ]
  },
  {
   "cell_type": "code",
   "execution_count": null,
   "metadata": {},
   "outputs": [],
   "source": []
  },
  {
   "cell_type": "code",
   "execution_count": null,
   "metadata": {},
   "outputs": [],
   "source": []
  }
 ],
 "metadata": {
  "kernelspec": {
   "display_name": "venv",
   "language": "python",
   "name": "python3"
  },
  "language_info": {
   "codemirror_mode": {
    "name": "ipython",
    "version": 3
   },
   "file_extension": ".py",
   "mimetype": "text/x-python",
   "name": "python",
   "nbconvert_exporter": "python",
   "pygments_lexer": "ipython3",
   "version": "3.10.0"
  }
 },
 "nbformat": 4,
 "nbformat_minor": 2
}
